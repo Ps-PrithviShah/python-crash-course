{
  "nbformat": 4,
  "nbformat_minor": 0,
  "metadata": {
    "colab": {
      "name": "Untitled6.ipynb",
      "provenance": [],
      "authorship_tag": "ABX9TyOTc/oo/5QIqh+cCWoExS6D",
      "include_colab_link": true
    },
    "kernelspec": {
      "name": "python3",
      "display_name": "Python 3"
    }
  },
  "cells": [
    {
      "cell_type": "markdown",
      "metadata": {
        "id": "view-in-github",
        "colab_type": "text"
      },
      "source": [
        "<a href=\"https://colab.research.google.com/github/Ps-PrithviShah/python-crash-course/blob/master/Assignment4.ipynb\" target=\"_parent\"><img src=\"https://colab.research.google.com/assets/colab-badge.svg\" alt=\"Open In Colab\"/></a>"
      ]
    },
    {
      "cell_type": "code",
      "metadata": {
        "id": "7lNy_htj6f0q",
        "colab_type": "code",
        "colab": {}
      },
      "source": [
        "class engine:\n",
        " def __init__(self,cylinder,injection,rpm,cooling):\n",
        "  self.cylinder=cylinder\n",
        "  self.injection=injection\n",
        "  self.rpm=rpm\n",
        "  self.cooling=cooling\n",
        "eng1 = engine(\"1\",\"Direct\",\"1000\",\"Air\")\n",
        "eng2 = engine(\"4\",\"Direct\",\"3500\",\"Water\")"
      ],
      "execution_count": 22,
      "outputs": []
    },
    {
      "cell_type": "code",
      "metadata": {
        "id": "37Za-UMLAsKM",
        "colab_type": "code",
        "colab": {
          "base_uri": "https://localhost:8080/",
          "height": 35
        },
        "outputId": "74b320e3-4c96-4249-dcfa-46a7e8b84305"
      },
      "source": [
        "eng2.cylinder\n"
      ],
      "execution_count": 24,
      "outputs": [
        {
          "output_type": "execute_result",
          "data": {
            "application/vnd.google.colaboratory.intrinsic+json": {
              "type": "string"
            },
            "text/plain": [
              "'4'"
            ]
          },
          "metadata": {
            "tags": []
          },
          "execution_count": 24
        }
      ]
    }
  ]
}