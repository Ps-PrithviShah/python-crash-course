{
  "nbformat": 4,
  "nbformat_minor": 0,
  "metadata": {
    "colab": {
      "name": "Untitled6.ipynb",
      "provenance": [],
      "authorship_tag": "ABX9TyN9Bg71DPOdAtRz4jhhGy7H",
      "include_colab_link": true
    },
    "kernelspec": {
      "name": "python3",
      "display_name": "Python 3"
    }
  },
  "cells": [
    {
      "cell_type": "markdown",
      "metadata": {
        "id": "view-in-github",
        "colab_type": "text"
      },
      "source": [
        "<a href=\"https://colab.research.google.com/github/Ps-PrithviShah/python-crash-course/blob/master/Assignment4.2.ipynb\" target=\"_parent\"><img src=\"https://colab.research.google.com/assets/colab-badge.svg\" alt=\"Open In Colab\"/></a>"
      ]
    },
    {
      "cell_type": "code",
      "metadata": {
        "id": "7lNy_htj6f0q",
        "colab_type": "code",
        "colab": {}
      },
      "source": [
        "class engine:\n",
        " def __init__(self,cylinder,strokes,rpm,cooling):\n",
        "  self.cylinder=cylinder\n",
        "  self.strokes=strokes\n",
        "  self.rpm=rpm\n",
        "  self.cooling=cooling\n",
        "eng1 = engine(1,4,1000,\"Air\")\n",
        "eng2 = engine(4,8,2500,\"Water\")\n",
        "\n",
        "def engine_on(x):\n",
        " y=print(\"Engine \"+x)\n",
        " return y\n",
        "\n",
        "def engine_off(x):\n",
        " y=print(\"Engine \"+x)\n",
        " return y\n",
        "\n",
        "def calculate(torque):\n",
        " horsepower=torque*1000/5252 \n",
        " return horsepower"
      ],
      "execution_count": 62,
      "outputs": []
    },
    {
      "cell_type": "code",
      "metadata": {
        "id": "37Za-UMLAsKM",
        "colab_type": "code",
        "colab": {
          "base_uri": "https://localhost:8080/",
          "height": 35
        },
        "outputId": "bd080db6-b4f4-4b9e-af11-fe6ca205e25d"
      },
      "source": [
        "eng2.cylinder\n"
      ],
      "execution_count": 57,
      "outputs": [
        {
          "output_type": "execute_result",
          "data": {
            "application/vnd.google.colaboratory.intrinsic+json": {
              "type": "string"
            },
            "text/plain": [
              "'4'"
            ]
          },
          "metadata": {
            "tags": []
          },
          "execution_count": 57
        }
      ]
    },
    {
      "cell_type": "code",
      "metadata": {
        "id": "qIzFf5K3NfhF",
        "colab_type": "code",
        "colab": {
          "base_uri": "https://localhost:8080/",
          "height": 34
        },
        "outputId": "e95af936-6d9d-4b6d-de6e-99f32fadcad1"
      },
      "source": [
        "x=\"on\"\n",
        "engine_on(x)\n",
        "\n"
      ],
      "execution_count": 58,
      "outputs": [
        {
          "output_type": "stream",
          "text": [
            "Engine on\n"
          ],
          "name": "stdout"
        }
      ]
    },
    {
      "cell_type": "code",
      "metadata": {
        "id": "uaPSfTAyZauN",
        "colab_type": "code",
        "colab": {
          "base_uri": "https://localhost:8080/",
          "height": 34
        },
        "outputId": "2415749a-951e-4961-d21f-a7375e8b3439"
      },
      "source": [
        "x=\"off\"\n",
        "engine_off(x)"
      ],
      "execution_count": 59,
      "outputs": [
        {
          "output_type": "stream",
          "text": [
            "Engine off\n"
          ],
          "name": "stdout"
        }
      ]
    },
    {
      "cell_type": "code",
      "metadata": {
        "id": "004JtAcWbULH",
        "colab_type": "code",
        "colab": {
          "base_uri": "https://localhost:8080/",
          "height": 51
        },
        "outputId": "7ec70db0-6809-4218-ef28-07b3397af090"
      },
      "source": [
        "x=int(input(\"torque: \"))\n",
        "y=calculate(x)\n",
        "print(\"horsepower:\",y)"
      ],
      "execution_count": 67,
      "outputs": [
        {
          "output_type": "stream",
          "text": [
            "torque: 25\n",
            "horsepower: 4.76009139375476\n"
          ],
          "name": "stdout"
        }
      ]
    }
  ]
}