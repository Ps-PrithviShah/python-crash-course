{
  "nbformat": 4,
  "nbformat_minor": 0,
  "metadata": {
    "colab": {
      "name": "Untitled5.ipynb",
      "provenance": [],
      "authorship_tag": "ABX9TyO8ut8eArMjvxwMhMXoa4aY",
      "include_colab_link": true
    },
    "kernelspec": {
      "name": "python3",
      "display_name": "Python 3"
    }
  },
  "cells": [
    {
      "cell_type": "markdown",
      "metadata": {
        "id": "view-in-github",
        "colab_type": "text"
      },
      "source": [
        "<a href=\"https://colab.research.google.com/github/Ps-PrithviShah/python-crash-course/blob/master/Assignment%203.ipynb\" target=\"_parent\"><img src=\"https://colab.research.google.com/assets/colab-badge.svg\" alt=\"Open In Colab\"/></a>"
      ]
    },
    {
      "cell_type": "code",
      "metadata": {
        "id": "uLu_V6FtZfgf",
        "colab_type": "code",
        "colab": {
          "base_uri": "https://localhost:8080/",
          "height": 204
        },
        "outputId": "dcf24e19-ec02-4eb5-c1f6-a2325cf68f5a"
      },
      "source": [
        "n=int(input(\"Enter number of rows:\"))\n",
        "c=input(\"Enter charactor: \")\n",
        "for i in range(1,n+1):                \n",
        "  print(\" \"*(n-i)+ (c+\" \")*i)\n",
        "for i in range(n-1,0,-1):\n",
        " print(\" \"*(n-i)+ (c+\" \")*i)"
      ],
      "execution_count": 42,
      "outputs": [
        {
          "output_type": "stream",
          "text": [
            "Enter number of rows:5\n",
            "Enter charactor: @\n",
            "    @ \n",
            "   @ @ \n",
            "  @ @ @ \n",
            " @ @ @ @ \n",
            "@ @ @ @ @ \n",
            " @ @ @ @ \n",
            "  @ @ @ \n",
            "   @ @ \n",
            "    @ \n"
          ],
          "name": "stdout"
        }
      ]
    }
  ]
}