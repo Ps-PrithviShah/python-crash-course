{
  "nbformat": 4,
  "nbformat_minor": 0,
  "metadata": {
    "colab": {
      "name": "Untitled",
      "provenance": [],
      "authorship_tag": "ABX9TyN3gecae96SiW6s8YkzSJQA",
      "include_colab_link": true
    },
    "kernelspec": {
      "name": "python3",
      "display_name": "Python 3"
    }
  },
  "cells": [
    {
      "cell_type": "markdown",
      "metadata": {
        "id": "view-in-github",
        "colab_type": "text"
      },
      "source": [
        "<a href=\"https://colab.research.google.com/github/Ps-PrithviShah/python-crash-course/blob/master/Project.ipynb\" target=\"_parent\"><img src=\"https://colab.research.google.com/assets/colab-badge.svg\" alt=\"Open In Colab\"/></a>"
      ]
    },
    {
      "cell_type": "code",
      "metadata": {
        "id": "wgSfWTJ4ImYj",
        "colab_type": "code",
        "colab": {
          "base_uri": "https://localhost:8080/",
          "height": 119
        },
        "outputId": "2c83c50e-6574-4a7c-e532-14d2b21d28b4"
      },
      "source": [
        "print(\"Enter your Details:\")\n",
        "name=input(\"Name:\")\n",
        "eid=int(input(\"employee-id number:\"))\n",
        "pno=int(input(\"Phone Number:\"))\n",
        "email=input(\"E-mail id:\")\n",
        "address=input(\"Address:\")"
      ],
      "execution_count": 5,
      "outputs": [
        {
          "output_type": "stream",
          "text": [
            "Enter your Details:\n",
            "Name:ghj\n",
            "employee-id number:15464\n",
            "Phone Number:7465454122\n",
            "E-mail id:ghfugj@nfgv.com\n",
            "Address:iu egfe g re tdg\n"
          ],
          "name": "stdout"
        }
      ]
    }
  ]
}