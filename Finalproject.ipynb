{
  "nbformat": 4,
  "nbformat_minor": 0,
  "metadata": {
    "colab": {
      "name": "Untitled8.ipynb",
      "provenance": [],
      "authorship_tag": "ABX9TyP4TX9ODtGKefL2JQ+2OUpV",
      "include_colab_link": true
    },
    "kernelspec": {
      "name": "python3",
      "display_name": "Python 3"
    }
  },
  "cells": [
    {
      "cell_type": "markdown",
      "metadata": {
        "id": "view-in-github",
        "colab_type": "text"
      },
      "source": [
        "<a href=\"https://colab.research.google.com/github/Ps-PrithviShah/python-crash-course/blob/master/Finalproject.ipynb\" target=\"_parent\"><img src=\"https://colab.research.google.com/assets/colab-badge.svg\" alt=\"Open In Colab\"/></a>"
      ]
    },
    {
      "cell_type": "code",
      "metadata": {
        "id": "1nXVFEfO8Nh9",
        "colab_type": "code",
        "colab": {}
      },
      "source": [
        "print(\"      ABSENCE REQUEST FORM\")\n",
        "name =input(\"Enter name of employee:\")\n",
        "id = int(input(\"Employee ID:\"))\n",
        "for i in range(6):\n",
        " if id==eid[i]: \n",
        "   t=1\n",
        "   break\n",
        " else:\n",
        "   t=0  \n",
        "if t==0:\n",
        " print(\"invalid Employee ID\")\n",
        "else:\n",
        " address = input(\"Address: \")\n",
        " dep = input (\"Department : \")\n",
        " no = int(input(\"Phone No : \"))\n",
        " email = input(\"E-mail I'd : \")\n",
        " abs = input(\"Reason of absence: \")\n",
        " \n",
        " print(\"This year Leave balance: \",bal[i])\n",
        " print(\"Date of absence - \")\n",
        " input(\"    From : \")\n",
        " input(\"    To : \")\n",
        " adays = int(input(\"Total absence days: \"))\n",
        " if (bal[i]>=adays):\n",
        "  a = bal[i]\n",
        "  print(\"Your leave is recorded: \")\n",
        "  \n",
        " else:\n",
        "  print(\"       Sorry, you can't take a leave \")\n",
        "  print(\"If urgent, Call the supervisor :\")\n",
        "\n",
        "import pandas as pd\n",
        "names = pd.Series(['Ishan','Siddhant','Parth','Kartik','Prithvi','Imtiyaz'])\n",
        "eid= pd.Series([11001,11002,11003,11004,11005,11006])\n",
        "leaves = pd.Series([15,15,15,15,15,15])\n",
        "bal = pd.Series([13,8,11,0,12,4])\n",
        "final=pd.DataFrame({ ' Names of Employees': names,'Employee ID':eid, 'Leaves given/year': leaves, 'Leave Ballance': bal })\n",
        "if (bal[i]>=adays):\n",
        " x= bal[i]-adays\n",
        " final.iat[i,3]=x\n",
        "final"
      ],
      "execution_count": null,
      "outputs": []
    }
  ]
}