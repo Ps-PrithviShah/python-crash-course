{
  "nbformat": 4,
  "nbformat_minor": 0,
  "metadata": {
    "colab": {
      "name": "Untitled1.ipynb",
      "provenance": [],
      "authorship_tag": "ABX9TyMTo3adwZmuP8UcO9CDuX/7",
      "include_colab_link": true
    },
    "kernelspec": {
      "name": "python3",
      "display_name": "Python 3"
    }
  },
  "cells": [
    {
      "cell_type": "markdown",
      "metadata": {
        "id": "view-in-github",
        "colab_type": "text"
      },
      "source": [
        "<a href=\"https://colab.research.google.com/github/Ps-PrithviShah/python-crash-course/blob/master/Assignment2.ipynb\" target=\"_parent\"><img src=\"https://colab.research.google.com/assets/colab-badge.svg\" alt=\"Open In Colab\"/></a>"
      ]
    },
    {
      "cell_type": "code",
      "metadata": {
        "id": "ehL869upfHMM",
        "colab_type": "code",
        "colab": {
          "base_uri": "https://localhost:8080/",
          "height": 204
        },
        "outputId": "9cab56d8-30b4-490b-dc17-f3bb3f7ef18e"
      },
      "source": [
        "print('Enter details of user1')\n",
        "u1=input(\"Name:\")\n",
        "p1=input(\"Password:\")\n",
        "a1=int(input(\"Age:\"))\n",
        "print(\"Enter details of user2\")\n",
        "u2=input(\"Name:\")\n",
        "p2=input(\"Password:\")\n",
        "a2=int(input(\"Age:\"))\n",
        "print(\"Users: \"+ u1 +\" and \"+ u2)\n",
        "print(\"Total Age =\",a1+a2)\n",
        "print(\"Avg Age =\",(a1+a2)/2)\n"
      ],
      "execution_count": 22,
      "outputs": [
        {
          "output_type": "stream",
          "text": [
            "Enter details of user1\n",
            "Name:Ali\n",
            "Password:admin\n",
            "Age:23\n",
            "Enter details of user2\n",
            "Name:Ram\n",
            "Password:admin\n",
            "Age:25\n",
            "Users: Ali and Ram\n",
            "Total Age = 48\n",
            "Avg Age = 24.0\n"
          ],
          "name": "stdout"
        }
      ]
    }
  ]
}