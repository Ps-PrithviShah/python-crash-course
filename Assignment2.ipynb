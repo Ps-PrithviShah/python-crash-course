{
  "nbformat": 4,
  "nbformat_minor": 0,
  "metadata": {
    "colab": {
      "name": "Untitled3.ipynb",
      "provenance": [],
      "authorship_tag": "ABX9TyM9Lrl+oThR3KfQ2RqSGLyQ",
      "include_colab_link": true
    },
    "kernelspec": {
      "name": "python3",
      "display_name": "Python 3"
    }
  },
  "cells": [
    {
      "cell_type": "markdown",
      "metadata": {
        "id": "view-in-github",
        "colab_type": "text"
      },
      "source": [
        "<a href=\"https://colab.research.google.com/github/Ps-PrithviShah/python-crash-course/blob/master/Assignment2.ipynb\" target=\"_parent\"><img src=\"https://colab.research.google.com/assets/colab-badge.svg\" alt=\"Open In Colab\"/></a>"
      ]
    },
    {
      "cell_type": "code",
      "metadata": {
        "id": "UalAhl7yHwlM",
        "colab_type": "code",
        "colab": {
          "base_uri": "https://localhost:8080/",
          "height": 204
        },
        "outputId": "536b540a-0636-4df8-ee1b-61ee0f86c0cb"
      },
      "source": [
        "\n",
        "print('Enter details of user1')\n",
        "u1=input(\"Name:\")\n",
        "listp1=[input(\"Password:\")]\n",
        "a1=int(input(\"Age:\"))\n",
        "print(\"Enter details of user2\")\n",
        "u2=input(\"Name:\")\n",
        "listp2=[input(\"Password:\")]\n",
        "a2=int(input(\"Age:\"))\n",
        "print(\"Users: \"+ u1 +\" and \"+ u2)\n",
        "print(\"Total Age =\",a1+a2)\n",
        "print(\"Avg Age =\",(a1+a2)/2)"
      ],
      "execution_count": 1,
      "outputs": [
        {
          "output_type": "stream",
          "text": [
            "Enter details of user1\n",
            "Name:Ali\n",
            "Password:admin\n",
            "Age:21\n",
            "Enter details of user2\n",
            "Name:Ram\n",
            "Password:admin\n",
            "Age:25\n",
            "Users: Ali and Ram\n",
            "Total Age = 46\n",
            "Avg Age = 23.0\n"
          ],
          "name": "stdout"
        }
      ]
    }
  ]
}