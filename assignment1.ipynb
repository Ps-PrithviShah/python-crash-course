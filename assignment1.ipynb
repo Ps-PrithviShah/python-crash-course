{
  "nbformat": 4,
  "nbformat_minor": 0,
  "metadata": {
    "colab": {
      "name": "Untitled0.ipynb",
      "provenance": [],
      "authorship_tag": "ABX9TyP+TBfOzhuRHqEEJGqdILvH",
      "include_colab_link": true
    },
    "kernelspec": {
      "name": "python3",
      "display_name": "Python 3"
    }
  },
  "cells": [
    {
      "cell_type": "markdown",
      "metadata": {
        "id": "view-in-github",
        "colab_type": "text"
      },
      "source": [
        "<a href=\"https://colab.research.google.com/github/Ps-PrithviShah/python-crash-course/blob/master/assignment1.ipynb\" target=\"_parent\"><img src=\"https://colab.research.google.com/assets/colab-badge.svg\" alt=\"Open In Colab\"/></a>"
      ]
    },
    {
      "cell_type": "code",
      "metadata": {
        "id": "I7oaufeTe5AM",
        "colab_type": "code",
        "colab": {
          "base_uri": "https://localhost:8080/",
          "height": 50
        },
        "outputId": "e6f42ead-5580-4534-fa60-f64963a1f649"
      },
      "source": [
        "Fruits = ['apple','banana','kiwi','cheeries','grapes',0.3,1.1,1.1,1,0.6]\n",
        "print(Fruits)\n",
        "print(len(Fruits))"
      ],
      "execution_count": 8,
      "outputs": [
        {
          "output_type": "stream",
          "text": [
            "['apple', 'banana', 'kiwi', 'cheeries', 'grapes', 0.3, 1.1, 1.1, 1, 0.6]\n",
            "10\n"
          ],
          "name": "stdout"
        }
      ]
    },
    {
      "cell_type": "code",
      "metadata": {
        "id": "SWlPGFUJjk2q",
        "colab_type": "code",
        "colab": {
          "base_uri": "https://localhost:8080/",
          "height": 34
        },
        "outputId": "50dd0e53-93f0-4bdc-d8cb-19255273b8fb"
      },
      "source": [
        "a=53\n",
        "b=34\n",
        "c=423\n",
        "sum=a+b+c\n",
        "print(sum)"
      ],
      "execution_count": 9,
      "outputs": [
        {
          "output_type": "stream",
          "text": [
            "510\n"
          ],
          "name": "stdout"
        }
      ]
    },
    {
      "cell_type": "code",
      "metadata": {
        "id": "DGES729Mj3Mi",
        "colab_type": "code",
        "colab": {
          "base_uri": "https://localhost:8080/",
          "height": 185
        },
        "outputId": "63e1962f-66e6-4030-bd33-302a8023e011"
      },
      "source": [
        "set1={1,2,3,4,5,6,7,8,9,10}\n",
        "print(set1)\n",
        "print(set1)\n",
        "print(set1)\n",
        "print(set1)\n",
        "print(set1)\n",
        "print(set1)\n",
        "print(set1)\n",
        "print(set1)\n",
        "print(set1)\n",
        "print(set1)\n"
      ],
      "execution_count": 20,
      "outputs": [
        {
          "output_type": "stream",
          "text": [
            "{1, 2, 3, 4, 5, 6, 7, 8, 9, 10}\n",
            "{1, 2, 3, 4, 5, 6, 7, 8, 9, 10}\n",
            "{1, 2, 3, 4, 5, 6, 7, 8, 9, 10}\n",
            "{1, 2, 3, 4, 5, 6, 7, 8, 9, 10}\n",
            "{1, 2, 3, 4, 5, 6, 7, 8, 9, 10}\n",
            "{1, 2, 3, 4, 5, 6, 7, 8, 9, 10}\n",
            "{1, 2, 3, 4, 5, 6, 7, 8, 9, 10}\n",
            "{1, 2, 3, 4, 5, 6, 7, 8, 9, 10}\n",
            "{1, 2, 3, 4, 5, 6, 7, 8, 9, 10}\n",
            "{1, 2, 3, 4, 5, 6, 7, 8, 9, 10}\n"
          ],
          "name": "stdout"
        }
      ]
    }
  ]
}