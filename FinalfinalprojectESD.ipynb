{
  "nbformat": 4,
  "nbformat_minor": 0,
  "metadata": {
    "colab": {
      "name": "Untitled8.ipynb",
      "provenance": [],
      "authorship_tag": "ABX9TyMCl1VgR8TdVDCqclkypjKd",
      "include_colab_link": true
    },
    "kernelspec": {
      "name": "python3",
      "display_name": "Python 3"
    }
  },
  "cells": [
    {
      "cell_type": "markdown",
      "metadata": {
        "id": "view-in-github",
        "colab_type": "text"
      },
      "source": [
        "<a href=\"https://colab.research.google.com/github/Ps-PrithviShah/python-crash-course/blob/master/FinalfinalprojectESD.ipynb\" target=\"_parent\"><img src=\"https://colab.research.google.com/assets/colab-badge.svg\" alt=\"Open In Colab\"/></a>"
      ]
    },
    {
      "cell_type": "code",
      "metadata": {
        "id": "1nXVFEfO8Nh9",
        "colab_type": "code",
        "colab": {
          "base_uri": "https://localhost:8080/",
          "height": 460
        },
        "outputId": "7c938c9e-1dc4-46c9-b583-e3c12f753edb"
      },
      "source": [
        "import pandas as pd\n",
        "names = pd.Series(['Ishan','Siddhant','Parth','Kartik','Prithvi','Imtiyaz'])\n",
        "eid= pd.Series([11001,11002,11003,11004,11005,11006])\n",
        "leaves = pd.Series([15,15,15,15,15,15])\n",
        "bal = pd.Series([13,8,11,0,12,4])\n",
        "final=pd.DataFrame({ ' Names of Employees': names,'Employee ID':eid, 'Leaves given/year': leaves, 'Leave Ballance': bal })\n",
        "\n",
        "print(\"      ABSENCE REQUEST FORM\")\n",
        "name =input(\"Enter name of employee:\")\n",
        "id = int(input(\"Employee ID:\"))\n",
        "for i in range(6):\n",
        " if id==eid[i]:\n",
        "   t=1\n",
        "   break\n",
        " else:\n",
        "   t=0  \n",
        "if t==0:\n",
        " print(\"invalid Employee ID\")\n",
        "else:\n",
        " address = input(\"Address: \")\n",
        " dep = input (\"Department : \")\n",
        " no = int(input(\"Phone No : \"))\n",
        " email = input(\"E-mail I'd : \")\n",
        " abs = input(\"Reason of absence: \")\n",
        " \n",
        " print(\"This year Leave balance: \",bal[i])\n",
        " print(\"Date of absence - \")\n",
        " input(\"    From : \")\n",
        " input(\"    To : \")\n",
        " adays = int(input(\"Total absence days: \"))\n",
        " if (bal[i]>=adays):\n",
        "  a = bal[i]\n",
        "  print(\"Your leave is recorded: \")\n",
        "  \n",
        " else:\n",
        "  print(\"       Sorry, you can't take a leave \")\n",
        "  print(\"If urgent, Call the supervisor :\")\n",
        "\n",
        " if (bal[i]>=adays):\n",
        "  x= bal[i]-adays\n",
        "  final.iat[i,3]=x\n",
        "final"
      ],
      "execution_count": 2,
      "outputs": [
        {
          "output_type": "stream",
          "text": [
            "      ABSENCE REQUEST FORM\n",
            "Enter name of employee:Prithvi shah\n",
            "Employee ID:11005\n",
            "Address: kandivali\n",
            "Department : Mech\n",
            "Phone No : 9865321245\n",
            "E-mail I'd : hfygd@gmail.com\n",
            "Reason of absence: vacation\n",
            "This year Leave balance:  12\n",
            "Date of absence - \n",
            "    From : 10/08/20\n",
            "    To : 12/08/20\n",
            "Total absence days: 3\n",
            "Your leave is recorded: \n"
          ],
          "name": "stdout"
        },
        {
          "output_type": "execute_result",
          "data": {
            "text/html": [
              "<div>\n",
              "<style scoped>\n",
              "    .dataframe tbody tr th:only-of-type {\n",
              "        vertical-align: middle;\n",
              "    }\n",
              "\n",
              "    .dataframe tbody tr th {\n",
              "        vertical-align: top;\n",
              "    }\n",
              "\n",
              "    .dataframe thead th {\n",
              "        text-align: right;\n",
              "    }\n",
              "</style>\n",
              "<table border=\"1\" class=\"dataframe\">\n",
              "  <thead>\n",
              "    <tr style=\"text-align: right;\">\n",
              "      <th></th>\n",
              "      <th>Names of Employees</th>\n",
              "      <th>Employee ID</th>\n",
              "      <th>Leaves given/year</th>\n",
              "      <th>Leave Ballance</th>\n",
              "    </tr>\n",
              "  </thead>\n",
              "  <tbody>\n",
              "    <tr>\n",
              "      <th>0</th>\n",
              "      <td>Ishan</td>\n",
              "      <td>11001</td>\n",
              "      <td>15</td>\n",
              "      <td>13</td>\n",
              "    </tr>\n",
              "    <tr>\n",
              "      <th>1</th>\n",
              "      <td>Siddhant</td>\n",
              "      <td>11002</td>\n",
              "      <td>15</td>\n",
              "      <td>8</td>\n",
              "    </tr>\n",
              "    <tr>\n",
              "      <th>2</th>\n",
              "      <td>Parth</td>\n",
              "      <td>11003</td>\n",
              "      <td>15</td>\n",
              "      <td>11</td>\n",
              "    </tr>\n",
              "    <tr>\n",
              "      <th>3</th>\n",
              "      <td>Kartik</td>\n",
              "      <td>11004</td>\n",
              "      <td>15</td>\n",
              "      <td>0</td>\n",
              "    </tr>\n",
              "    <tr>\n",
              "      <th>4</th>\n",
              "      <td>Prithvi</td>\n",
              "      <td>11005</td>\n",
              "      <td>15</td>\n",
              "      <td>9</td>\n",
              "    </tr>\n",
              "    <tr>\n",
              "      <th>5</th>\n",
              "      <td>Imtiyaz</td>\n",
              "      <td>11006</td>\n",
              "      <td>15</td>\n",
              "      <td>4</td>\n",
              "    </tr>\n",
              "  </tbody>\n",
              "</table>\n",
              "</div>"
            ],
            "text/plain": [
              "   Names of Employees  Employee ID  Leaves given/year  Leave Ballance\n",
              "0               Ishan        11001                 15              13\n",
              "1            Siddhant        11002                 15               8\n",
              "2               Parth        11003                 15              11\n",
              "3              Kartik        11004                 15               0\n",
              "4             Prithvi        11005                 15               9\n",
              "5             Imtiyaz        11006                 15               4"
            ]
          },
          "metadata": {
            "tags": []
          },
          "execution_count": 2
        }
      ]
    }
  ]
}