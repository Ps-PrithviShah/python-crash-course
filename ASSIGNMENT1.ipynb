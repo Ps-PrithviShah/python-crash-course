{
  "nbformat": 4,
  "nbformat_minor": 0,
  "metadata": {
    "colab": {
      "name": "Untitled0.ipynb",
      "provenance": [],
      "authorship_tag": "ABX9TyMgJLcmhWQ/oiLyGsTRpDHm",
      "include_colab_link": true
    },
    "kernelspec": {
      "name": "python3",
      "display_name": "Python 3"
    }
  },
  "cells": [
    {
      "cell_type": "markdown",
      "metadata": {
        "id": "view-in-github",
        "colab_type": "text"
      },
      "source": [
        "<a href=\"https://colab.research.google.com/github/Ps-PrithviShah/python-crash-course/blob/master/ASSIGNMENT1.ipynb\" target=\"_parent\"><img src=\"https://colab.research.google.com/assets/colab-badge.svg\" alt=\"Open In Colab\"/></a>"
      ]
    },
    {
      "cell_type": "code",
      "metadata": {
        "id": "I7oaufeTe5AM",
        "colab_type": "code",
        "colab": {
          "base_uri": "https://localhost:8080/",
          "height": 67
        },
        "outputId": "70008483-48f1-4ece-e13c-7d6af83557df"
      },
      "source": [
        "Fruits = ['apple','banana','kiwi','cheeries','grapes',0.3,1.1,1.1,1,0.6]\n",
        "print(Fruits)\n",
        "print(len(Fruits))\n",
        "print (Fruits[0:5])"
      ],
      "execution_count": 14,
      "outputs": [
        {
          "output_type": "stream",
          "text": [
            "['apple', 'banana', 'kiwi', 'cheeries', 'grapes', 0.3, 1.1, 1.1, 1, 0.6]\n",
            "10\n",
            "['apple', 'banana', 'kiwi', 'cheeries', 'grapes']\n"
          ],
          "name": "stdout"
        }
      ]
    },
    {
      "cell_type": "code",
      "metadata": {
        "id": "SWlPGFUJjk2q",
        "colab_type": "code",
        "colab": {
          "base_uri": "https://localhost:8080/",
          "height": 34
        },
        "outputId": "50dd0e53-93f0-4bdc-d8cb-19255273b8fb"
      },
      "source": [
        "a=53\n",
        "b=34\n",
        "c=423\n",
        "sum=a+b+c\n",
        "print(sum)"
      ],
      "execution_count": null,
      "outputs": [
        {
          "output_type": "stream",
          "text": [
            "510\n"
          ],
          "name": "stdout"
        }
      ]
    },
    {
      "cell_type": "code",
      "metadata": {
        "id": "DGES729Mj3Mi",
        "colab_type": "code",
        "colab": {
          "base_uri": "https://localhost:8080/",
          "height": 185
        },
        "outputId": "63e1962f-66e6-4030-bd33-302a8023e011"
      },
      "source": [
        "set1={1,2,3,4,5,6,7,8,9,10}\n",
        "print(set1)\n",
        "print(set1)\n",
        "print(set1)\n",
        "print(set1)\n",
        "print(set1)\n",
        "print(set1)\n",
        "print(set1)\n",
        "print(set1)\n",
        "print(set1)\n",
        "print(set1)\n"
      ],
      "execution_count": null,
      "outputs": [
        {
          "output_type": "stream",
          "text": [
            "{1, 2, 3, 4, 5, 6, 7, 8, 9, 10}\n",
            "{1, 2, 3, 4, 5, 6, 7, 8, 9, 10}\n",
            "{1, 2, 3, 4, 5, 6, 7, 8, 9, 10}\n",
            "{1, 2, 3, 4, 5, 6, 7, 8, 9, 10}\n",
            "{1, 2, 3, 4, 5, 6, 7, 8, 9, 10}\n",
            "{1, 2, 3, 4, 5, 6, 7, 8, 9, 10}\n",
            "{1, 2, 3, 4, 5, 6, 7, 8, 9, 10}\n",
            "{1, 2, 3, 4, 5, 6, 7, 8, 9, 10}\n",
            "{1, 2, 3, 4, 5, 6, 7, 8, 9, 10}\n",
            "{1, 2, 3, 4, 5, 6, 7, 8, 9, 10}\n"
          ],
          "name": "stdout"
        }
      ]
    },
    {
      "cell_type": "code",
      "metadata": {
        "id": "oG-g0e5ZXh67",
        "colab_type": "code",
        "colab": {
          "base_uri": "https://localhost:8080/",
          "height": 67
        },
        "outputId": "9a6461d5-9415-432a-b7cc-029c32fd0635"
      },
      "source": [
        "stundents=['roy','rohan','ronak','monish','yash']\n",
        "print(stundents.count('roy'))\n",
        "print (len(stundents))\t\n",
        "print (stundents.index('ronak'))"
      ],
      "execution_count": 10,
      "outputs": [
        {
          "output_type": "stream",
          "text": [
            "1\n",
            "5\n",
            "2\n"
          ],
          "name": "stdout"
        }
      ]
    }
  ]
}