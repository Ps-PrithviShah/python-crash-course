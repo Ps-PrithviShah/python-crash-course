{
  "nbformat": 4,
  "nbformat_minor": 0,
  "metadata": {
    "colab": {
      "name": "Untitled",
      "provenance": [],
      "authorship_tag": "ABX9TyPC95rtaW6FRnOZgCqfwP+N",
      "include_colab_link": true
    },
    "kernelspec": {
      "name": "python3",
      "display_name": "Python 3"
    }
  },
  "cells": [
    {
      "cell_type": "markdown",
      "metadata": {
        "id": "view-in-github",
        "colab_type": "text"
      },
      "source": [
        "<a href=\"https://colab.research.google.com/github/Ps-PrithviShah/python-crash-course/blob/master/project.ipynb\" target=\"_parent\"><img src=\"https://colab.research.google.com/assets/colab-badge.svg\" alt=\"Open In Colab\"/></a>"
      ]
    },
    {
      "cell_type": "code",
      "metadata": {
        "id": "wgSfWTJ4ImYj",
        "colab_type": "code",
        "colab": {
          "base_uri": "https://localhost:8080/",
          "height": 136
        },
        "outputId": "261c0c48-30b7-4605-a5f9-9489ab368a08"
      },
      "source": [
        "print(\"Absence Request Form:\")\n",
        "name=input(\"Name:\")\n",
        "eid=int(input(\"employee-id number:\"))\n",
        "dep=input(\"Department:\")\n",
        "pno=int(input(\"Phone Number:\"))\n",
        "email=input(\"E-mail id:\")\n",
        "address=input(\"Address:\")"
      ],
      "execution_count": 1,
      "outputs": [
        {
          "output_type": "stream",
          "text": [
            "Absence Request Form:\n",
            "Name:GYGUH\n",
            "employee-id number:4562\n",
            "Department:SCYGUYJ\n",
            "Phone Number:457523\n",
            "E-mail id:DJF@GMAIL.COM\n",
            "Address:UYTFRUR FEGUIFR FEWJGHKJFB EQGIUQEW\n"
          ],
          "name": "stdout"
        }
      ]
    }
  ]
}